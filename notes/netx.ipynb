{
 "cells": [
  {
   "cell_type": "code",
   "execution_count": 41,
   "metadata": {},
   "outputs": [
    {
     "name": "stdout",
     "output_type": "stream",
     "text": [
      "[[0.  4.7 0.  0.  0.  0.  0. ]\n",
      " [0.  0.  0.  0.  0.  0.  0. ]\n",
      " [0.  0.  0.  4.7 0.  0.  0. ]\n",
      " [0.  0.  0.  0.  4.2 0.  0. ]\n",
      " [0.  0.  0.  0.  0.  0.  0. ]\n",
      " [0.  0.  0.  0.  0.  0.  1. ]\n",
      " [0.  0.  0.  8.  0.  0.  0. ]]\n"
     ]
    },
    {
     "data": {
      "image/png": "[encoded data removed]",
      "text/plain": [
       "<Figure size 432x288 with 1 Axes>"
      ]
     },
     "metadata": {},
     "output_type": "display_data"
    }
   ],
   "source": [
    "import networkx as nx\n",
    "import numpy as np\n",
    "import matplotlib.pyplot as plt\n",
    "\n",
    "G=nx.DiGraph()\n",
    "#G=nx.DiGraph([(1, 2, {\"color\": \"yellow\"})])\n",
    "#G.add_node(1)\n",
    "#G.add_nodes_from([3 ,4, 5])\n",
    "#G.add_edge(3, 4, weight=20 )\n",
    "\n",
    "G.add_edge(\"start\", 2, weight=4.7 )\n",
    "G.add_edges_from([(3, 4), (4, 5)], color='red')\n",
    "G.add_edges_from([(6, 7, {'color': 'blue'}), (7, 4, {'weight': 8})])\n",
    "G[3][4]['weight'] = 4.7\n",
    "G.edges[4, 5]['weight'] = 4.2\n",
    "\n",
    "\n",
    "#G.add_edge(1, 4)\n",
    "A=nx.to_numpy_matrix(G)\n",
    "nx.draw(G, with_labels=1)\n",
    "print(A)"
   ]
  },
  {
   "cell_type": "code",
   "execution_count": null,
   "metadata": {},
   "outputs": [],
   "source": []
  }
 ],
 "metadata": {
  "interpreter": {
   "hash": "916dbcbb3f70747c44a77c7bcd40155683ae19c65e1c03b4aa3499c5328201f1"
  },
  "kernelspec": {
   "display_name": "Python 3.8.10 64-bit",
   "name": "python3"
  },
  "language_info": {
   "codemirror_mode": {
    "name": "ipython",
    "version": 3
   },
   "file_extension": ".py",
   "mimetype": "text/x-python",
   "name": "python",
   "nbconvert_exporter": "python",
   "pygments_lexer": "ipython3",
   "version": "3.8.10"
  },
  "orig_nbformat": 4,
  "vscode": {
   "interpreter": {
    "hash": "b7408228f4a5cb7fa784ffd1cf1850160bb6ada17e62283dd63a5bc45edbe552"
   }
  }
 },
 "nbformat": 4,
 "nbformat_minor": 2
}